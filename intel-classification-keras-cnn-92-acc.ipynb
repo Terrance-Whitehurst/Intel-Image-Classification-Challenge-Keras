{
 "cells": [
  {
   "cell_type": "code",
   "execution_count": 1,
   "metadata": {
    "_cell_guid": "79c7e3d0-c299-4dcb-8224-4455121ee9b0",
    "_uuid": "d629ff2d2480ee46fbb7e2d37f6b5fab8052498a"
   },
   "outputs": [
    {
     "name": "stderr",
     "output_type": "stream",
     "text": [
      "Using TensorFlow backend.\n"
     ]
    }
   ],
   "source": [
    "#-------Import Dependencies-------#\n",
    "%matplotlib inline\n",
    "import pandas as pd\n",
    "import os,shutil,math,scipy,cv2\n",
    "import numpy as np\n",
    "import matplotlib.pyplot as plt\n",
    "\n",
    "from sklearn.utils import shuffle\n",
    "from sklearn.metrics import classification_report\n",
    "from sklearn.model_selection import train_test_split\n",
    "from keras.utils.np_utils import to_categorical\n",
    "from sklearn.metrics import confusion_matrix,roc_curve,auc\n",
    "\n",
    "from PIL import Image\n",
    "from PIL import Image as pil_image\n",
    "from time import time\n",
    "from PIL import ImageDraw\n",
    "from glob import glob\n",
    "from tqdm import tqdm\n",
    "from skimage.io import imread\n",
    "from IPython.display import SVG\n",
    "\n",
    "from scipy import misc,ndimage\n",
    "from scipy.ndimage.interpolation import zoom\n",
    "from scipy.ndimage import imread\n",
    "\n",
    "from keras import backend as K\n",
    "from keras import layers\n",
    "from keras.preprocessing.image import save_img\n",
    "from keras.utils.vis_utils import model_to_dot\n",
    "from keras.applications.vgg19 import VGG19,preprocess_input\n",
    "from keras.applications.xception import Xception\n",
    "from keras.applications.nasnet import NASNetMobile\n",
    "from keras.models import Sequential,Input,Model\n",
    "from keras.layers import Dense,Flatten,Dropout,Concatenate,GlobalAveragePooling2D,Lambda,ZeroPadding2D\n",
    "from keras.layers import SeparableConv2D,BatchNormalization,MaxPooling2D,Conv2D\n",
    "from keras.preprocessing.image import ImageDataGenerator\n",
    "from keras.optimizers import Adam,SGD\n",
    "from keras.utils.vis_utils import plot_model\n",
    "from keras.callbacks import ModelCheckpoint,EarlyStopping,TensorBoard,CSVLogger,ReduceLROnPlateau,LearningRateScheduler"
   ]
  },
  {
   "cell_type": "code",
   "execution_count": 2,
   "metadata": {
    "_uuid": "425c5e95ed8e375834b39f50bbec0ab3e197aca8"
   },
   "outputs": [],
   "source": [
    "def show_final_history(history):\n",
    "    fig, ax = plt.subplots(1, 2, figsize=(15,5))\n",
    "    ax[0].set_title('loss')\n",
    "    ax[0].plot(history.epoch, history.history[\"loss\"], label=\"Train loss\")\n",
    "    ax[0].plot(history.epoch, history.history[\"val_loss\"], label=\"Validation loss\")\n",
    "    ax[1].set_title('acc')\n",
    "    ax[1].plot(history.epoch, history.history[\"acc\"], label=\"Train acc\")\n",
    "    ax[1].plot(history.epoch, history.history[\"val_acc\"], label=\"Validation acc\")\n",
    "    ax[0].legend()\n",
    "    ax[1].legend()"
   ]
  },
  {
   "cell_type": "code",
   "execution_count": 3,
   "metadata": {
    "_uuid": "df82c07ac2ea871edf3051128bc7b5843ea2bc4a"
   },
   "outputs": [],
   "source": [
    "train_dir = '../input/seg_train/seg_train/'\n",
    "test_dir = '../input/seg_test/seg_test/'"
   ]
  },
  {
   "cell_type": "code",
   "execution_count": 4,
   "metadata": {
    "_uuid": "67493159e95557d3a0808b8476cf7d5a694f8b52"
   },
   "outputs": [
    {
     "name": "stdout",
     "output_type": "stream",
     "text": [
      "Found 14034 images belonging to 6 classes.\n",
      "Found 3000 images belonging to 6 classes.\n"
     ]
    }
   ],
   "source": [
    "augs = ImageDataGenerator(\n",
    "    rescale=1./255,\n",
    "    shear_range=0.2,  \n",
    "    zoom_range=0.2,        \n",
    "    horizontal_flip=True,\n",
    "    validation_split=0.3)  \n",
    "\n",
    "train_gen = augs.flow_from_directory(\n",
    "    train_dir,\n",
    "    target_size = (150,150),\n",
    "    batch_size=8,\n",
    "    class_mode = 'categorical'\n",
    ")\n",
    "\n",
    "test_gen = augs.flow_from_directory(\n",
    "    test_dir,\n",
    "    target_size=(150,150),\n",
    "    batch_size=8,\n",
    "    class_mode='categorical'\n",
    ")"
   ]
  },
  {
   "cell_type": "code",
   "execution_count": 5,
   "metadata": {
    "_uuid": "132c3a9097cfd5e957c1e309e29389290c2b694f"
   },
   "outputs": [
    {
     "name": "stdout",
     "output_type": "stream",
     "text": [
      "_________________________________________________________________\n",
      "Layer (type)                 Output Shape              Param #   \n",
      "=================================================================\n",
      "lambda_1 (Lambda)            (None, 150, 150, 3)       0         \n",
      "_________________________________________________________________\n",
      "block_1 (SeparableConv2D)    (None, 148, 148, 16)      91        \n",
      "_________________________________________________________________\n",
      "batch_normalization_1 (Batch (None, 148, 148, 16)      64        \n",
      "_________________________________________________________________\n",
      "max_pooling2d_1 (MaxPooling2 (None, 74, 74, 16)        0         \n",
      "_________________________________________________________________\n",
      "block_2 (SeparableConv2D)    (None, 72, 72, 32)        688       \n",
      "_________________________________________________________________\n",
      "batch_normalization_2 (Batch (None, 72, 72, 32)        128       \n",
      "_________________________________________________________________\n",
      "max_pooling2d_2 (MaxPooling2 (None, 36, 36, 32)        0         \n",
      "_________________________________________________________________\n",
      "block_3 (SeparableConv2D)    (None, 34, 34, 64)        2400      \n",
      "_________________________________________________________________\n",
      "batch_normalization_3 (Batch (None, 34, 34, 64)        256       \n",
      "_________________________________________________________________\n",
      "max_pooling2d_3 (MaxPooling2 (None, 17, 17, 64)        0         \n",
      "_________________________________________________________________\n",
      "block_4 (SeparableConv2D)    (None, 15, 15, 128)       8896      \n",
      "_________________________________________________________________\n",
      "batch_normalization_4 (Batch (None, 15, 15, 128)       512       \n",
      "_________________________________________________________________\n",
      "max_pooling2d_4 (MaxPooling2 (None, 7, 7, 128)         0         \n",
      "_________________________________________________________________\n",
      "flatten_1 (Flatten)          (None, 6272)              0         \n",
      "_________________________________________________________________\n",
      "dense_1 (Dense)              (None, 1024)              6423552   \n",
      "_________________________________________________________________\n",
      "dropout_1 (Dropout)          (None, 1024)              0         \n",
      "_________________________________________________________________\n",
      "dense_2 (Dense)              (None, 6)                 6150      \n",
      "=================================================================\n",
      "Total params: 6,442,737\n",
      "Trainable params: 6,442,257\n",
      "Non-trainable params: 480\n",
      "_________________________________________________________________\n"
     ]
    }
   ],
   "source": [
    "def ConvBlock(model, layers, filters,name):\n",
    "    for i in range(layers):\n",
    "        model.add(SeparableConv2D(filters, (3, 3), activation='relu',name=name))\n",
    "        model.add(BatchNormalization())\n",
    "        model.add(MaxPooling2D((2, 2), strides=(2, 2)))\n",
    "    \n",
    "def FCN():\n",
    "    model = Sequential()\n",
    "    model.add(Lambda(lambda x: x, input_shape=(150, 150, 3)))\n",
    "    ConvBlock(model, 1, 16,'block_1')\n",
    "    ConvBlock(model, 1, 32,'block_2')\n",
    "    ConvBlock(model, 1, 64,'block_3')\n",
    "    ConvBlock(model, 1, 128,'block_4')\n",
    "    model.add(Flatten())\n",
    "    model.add(Dense(1024,activation='relu'))\n",
    "    model.add(Dropout(0.5))\n",
    "    model.add(Dense(6,activation='sigmoid'))\n",
    "    return model\n",
    "\n",
    "model = FCN()\n",
    "model.summary()\n",
    "\n",
    "SVG(model_to_dot(model).create(prog='dot', format='svg'))\n",
    "plot_model(model, to_file='model_plot.png', show_shapes=True, show_layer_names=True, expand_nested=True)"
   ]
  },
  {
   "cell_type": "code",
   "execution_count": 6,
   "metadata": {
    "_uuid": "6f80db22ca847312fa6c86f01e9313130cb8628e"
   },
   "outputs": [],
   "source": [
    "#-------Callbacks-------------#\n",
    "best_model_weights = './base.model'\n",
    "checkpoint = ModelCheckpoint(\n",
    "    best_model_weights,\n",
    "    monitor='val_loss',\n",
    "    verbose=1,\n",
    "    save_best_only=True,\n",
    "    mode='min',\n",
    "    save_weights_only=False,\n",
    "    period=1\n",
    ")\n",
    "earlystop = EarlyStopping(\n",
    "    monitor='val_loss',\n",
    "    min_delta=0.001,\n",
    "    patience=10,\n",
    "    verbose=1,\n",
    "    mode='auto'\n",
    ")\n",
    "tensorboard = TensorBoard(\n",
    "    log_dir = './logs',\n",
    "    histogram_freq=0,\n",
    "    batch_size=16,\n",
    "    write_graph=True,\n",
    "    write_grads=True,\n",
    "    write_images=False,\n",
    ")\n",
    "\n",
    "csvlogger = CSVLogger(\n",
    "    filename= \"training_csv.log\",\n",
    "    separator = \",\",\n",
    "    append = False\n",
    ")\n",
    "\n",
    "#lrsched = LearningRateScheduler(step_decay,verbose=1)\n",
    "\n",
    "reduce = ReduceLROnPlateau(\n",
    "    monitor='val_loss',\n",
    "    factor=0.5,\n",
    "    patience=40,\n",
    "    verbose=1, \n",
    "    mode='auto',\n",
    "    cooldown=1 \n",
    ")\n",
    "\n",
    "callbacks = [checkpoint,tensorboard,csvlogger,reduce]"
   ]
  },
  {
   "cell_type": "code",
   "execution_count": 7,
   "metadata": {
    "_uuid": "4f450ac8a838aaee32d67799ce7ee01c76533c37"
   },
   "outputs": [
    {
     "name": "stdout",
     "output_type": "stream",
     "text": [
      "Epoch 1/20\n",
      "500/500 [==============================] - 61s 122ms/step - loss: 0.4940 - acc: 0.8169 - val_loss: 0.4856 - val_acc: 0.8229\n",
      "\n",
      "Epoch 00001: val_loss improved from inf to 0.48561, saving model to ./base.model\n",
      "Epoch 2/20\n",
      "500/500 [==============================] - 58s 117ms/step - loss: 0.3296 - acc: 0.8627 - val_loss: 0.3329 - val_acc: 0.8608\n",
      "\n",
      "Epoch 00002: val_loss improved from 0.48561 to 0.33285, saving model to ./base.model\n",
      "Epoch 3/20\n",
      "500/500 [==============================] - 58s 116ms/step - loss: 0.2979 - acc: 0.8765 - val_loss: 0.2942 - val_acc: 0.8742\n",
      "\n",
      "Epoch 00003: val_loss improved from 0.33285 to 0.29425, saving model to ./base.model\n",
      "Epoch 4/20\n",
      "500/500 [==============================] - 58s 116ms/step - loss: 0.2818 - acc: 0.8798 - val_loss: 0.2462 - val_acc: 0.8934\n",
      "\n",
      "Epoch 00004: val_loss improved from 0.29425 to 0.24620, saving model to ./base.model\n",
      "Epoch 5/20\n",
      "500/500 [==============================] - 57s 114ms/step - loss: 0.2586 - acc: 0.8893 - val_loss: 0.2640 - val_acc: 0.8906\n",
      "\n",
      "Epoch 00005: val_loss did not improve from 0.24620\n",
      "Epoch 6/20\n",
      "500/500 [==============================] - 57s 114ms/step - loss: 0.2592 - acc: 0.8871 - val_loss: 0.2447 - val_acc: 0.8963\n",
      "\n",
      "Epoch 00006: val_loss improved from 0.24620 to 0.24467, saving model to ./base.model\n",
      "Epoch 7/20\n",
      "500/500 [==============================] - 57s 114ms/step - loss: 0.2532 - acc: 0.8939 - val_loss: 0.2238 - val_acc: 0.9054\n",
      "\n",
      "Epoch 00007: val_loss improved from 0.24467 to 0.22375, saving model to ./base.model\n",
      "Epoch 8/20\n",
      "500/500 [==============================] - 57s 114ms/step - loss: 0.2385 - acc: 0.8977 - val_loss: 0.2162 - val_acc: 0.9069\n",
      "\n",
      "Epoch 00008: val_loss improved from 0.22375 to 0.21615, saving model to ./base.model\n",
      "Epoch 9/20\n",
      "500/500 [==============================] - 57s 113ms/step - loss: 0.2375 - acc: 0.8993 - val_loss: 0.2176 - val_acc: 0.9097\n",
      "\n",
      "Epoch 00009: val_loss did not improve from 0.21615\n",
      "Epoch 10/20\n",
      "500/500 [==============================] - 57s 114ms/step - loss: 0.2307 - acc: 0.9044 - val_loss: 0.2987 - val_acc: 0.8780\n",
      "\n",
      "Epoch 00010: val_loss did not improve from 0.21615\n",
      "Epoch 11/20\n",
      "500/500 [==============================] - 57s 114ms/step - loss: 0.2255 - acc: 0.9055 - val_loss: 0.2294 - val_acc: 0.9052\n",
      "\n",
      "Epoch 00011: val_loss did not improve from 0.21615\n",
      "Epoch 12/20\n",
      "500/500 [==============================] - 57s 114ms/step - loss: 0.2180 - acc: 0.9089 - val_loss: 0.1930 - val_acc: 0.9202\n",
      "\n",
      "Epoch 00012: val_loss improved from 0.21615 to 0.19302, saving model to ./base.model\n",
      "Epoch 13/20\n",
      "500/500 [==============================] - 57s 113ms/step - loss: 0.2064 - acc: 0.9153 - val_loss: 0.2323 - val_acc: 0.9052\n",
      "\n",
      "Epoch 00013: val_loss did not improve from 0.19302\n",
      "Epoch 14/20\n",
      " 34/500 [=>............................] - ETA: 28s - loss: 0.2111 - acc: 0.9154"
     ]
    }
   ],
   "source": [
    "opt = SGD(lr=1e-4,momentum=0.99)\n",
    "opt1 = Adam(lr=2e-4)\n",
    "\n",
    "model.compile(\n",
    "    loss='binary_crossentropy',\n",
    "    optimizer=opt,\n",
    "    metrics=['accuracy']\n",
    ")\n",
    "    \n",
    "history = model.fit_generator(\n",
    "    train_gen, \n",
    "    steps_per_epoch  = 500, \n",
    "    validation_data  = test_gen,\n",
    "    validation_steps = 500,\n",
    "    epochs = 20, \n",
    "    verbose = 1,\n",
    "    callbacks=callbacks\n",
    ")"
   ]
  },
  {
   "cell_type": "code",
   "execution_count": 8,
   "metadata": {
    "_uuid": "7f6fbc6f5cb4e6d38b5ca644aeb54344866f3d4f"
   },
   "outputs": [
    {
     "name": "stdout",
     "output_type": "stream",
     "text": [
      "Model Test Loss: 0.18407066136101882\n",
      "Model Test Accuracy: 0.9269999968210856\n",
      "Weights Saved\n"
     ]
    },
    {
     "data": {
      "image/png": "[encoded data removed]",
      "text/plain": [
       "<Figure size 1080x360 with 2 Axes>"
      ]
     },
     "metadata": {},
     "output_type": "display_data"
    }
   ],
   "source": [
    "show_final_history(history)\n",
    "model.load_weights(best_model_weights)\n",
    "model_score = model.evaluate_generator(test_gen)\n",
    "print(\"Model Test Loss:\",model_score[0])\n",
    "print(\"Model Test Accuracy:\",model_score[1])\n",
    "\n",
    "model_json = model.to_json()\n",
    "with open(\"model.json\",\"w\") as json_file:\n",
    "    json_file.write(model_json)\n",
    "    \n",
    "model.save(\"model.h5\")\n",
    "print(\"Weights Saved\")"
   ]
  },
  {
   "cell_type": "code",
   "execution_count": 9,
   "metadata": {
    "_uuid": "48dd5fb0f9a32cf76e859f25b2d4e86b31e928c0"
   },
   "outputs": [
    {
     "name": "stdout",
     "output_type": "stream",
     "text": [
      "--2019-02-18 00:20:00--  https://bin.equinox.io/c/4VmDzA7iaHb/ngrok-stable-linux-amd64.zip\r\n",
      "Resolving bin.equinox.io (bin.equinox.io)... 3.92.108.98, 34.196.237.103, 52.204.188.97, ...\r\n",
      "Connecting to bin.equinox.io (bin.equinox.io)|3.92.108.98|:443... connected.\r\n",
      "HTTP request sent, awaiting response... 200 OK\r\n",
      "Length: 5363700 (5.1M) [application/octet-stream]\r\n",
      "Saving to: ‘ngrok-stable-linux-amd64.zip’\r\n",
      "\r\n",
      "ngrok-stable-linux- 100%[===================>]   5.11M  9.67MB/s    in 0.5s    \r\n",
      "\r\n",
      "2019-02-18 00:20:01 (9.67 MB/s) - ‘ngrok-stable-linux-amd64.zip’ saved [5363700/5363700]\r\n",
      "\r\n",
      "Archive:  ngrok-stable-linux-amd64.zip\r\n",
      "  inflating: ngrok                   \r\n",
      "https://83ee6539.ngrok.io\r\n"
     ]
    }
   ],
   "source": [
    "!wget https://bin.equinox.io/c/4VmDzA7iaHb/ngrok-stable-linux-amd64.zip\n",
    "!unzip ngrok-stable-linux-amd64.zip\n",
    "LOG_DIR = './logs' # Here you have to put your log directory\n",
    "get_ipython().system_raw(\n",
    "    'tensorboard --logdir {} --host 0.0.0.0 --port 8080 &'\n",
    "    .format(LOG_DIR)\n",
    ")\n",
    "get_ipython().system_raw('./ngrok http 8080 &')\n",
    "! curl -s http://localhost:4040/api/tunnels | python3 -c \\\n",
    "    \"import sys, json; print(json.load(sys.stdin)['tunnels'][0]['public_url'])\"\n"
   ]
  },
  {
   "cell_type": "code",
   "execution_count": 10,
   "metadata": {
    "_uuid": "eeb8aeeab0a4249bfe5944a6ab43a2d621d09df3"
   },
   "outputs": [],
   "source": []
  }
 ],
 "metadata": {
  "kernelspec": {
   "display_name": "Python 3",
   "language": "python",
   "name": "python3"
  },
  "language_info": {
   "codemirror_mode": {
    "name": "ipython",
    "version": 3
   },
   "file_extension": ".py",
   "mimetype": "text/x-python",
   "name": "python",
   "nbconvert_exporter": "python",
   "pygments_lexer": "ipython3",
   "version": "3.6.6"
  }
 },
 "nbformat": 4,
 "nbformat_minor": 1
}
